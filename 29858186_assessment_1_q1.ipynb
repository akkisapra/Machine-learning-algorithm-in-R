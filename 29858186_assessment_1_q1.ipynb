{
 "cells": [
  {
   "cell_type": "markdown",
   "metadata": {},
   "source": [
    "# KNN Regressor (Question 1)\n"
   ]
  },
  {
   "cell_type": "markdown",
   "metadata": {},
   "source": [
    " - Student Name: Akshay Sapra \n",
    " - Stuident ID: 29858186\n",
    " \n",
    "Programming Language used: R in Jupyter Notebook\n",
    "\n",
    "Libraries Used: \n",
    "- ggplot2 - for data visualisation\n",
    "- reshape2- to reshape the data"
   ]
  },
  {
   "cell_type": "markdown",
   "metadata": {},
   "source": [
    "### Steps for the solution\n",
    "<ol>\n",
    "\t<li>Load the Train and test dataset provided as part of the assignment specification</li>\n",
    "    <li>Define KNN function that takes the training data and their labels (continuous values), the test\n",
    "set, and the size of the neighborhood ($K$),</li>\n",
    "\t<li>Apply KNN where for some values of $K$ and report training and testing error</li>\n",
    "\t<li>Plot training and testing error versus $1/K$ where $K \\in \\{1,\\cdots,20\\}$</li>\n",
    "</ol>"
   ]
  },
  {
   "cell_type": "markdown",
   "metadata": {},
   "source": [
    "#### Task I"
   ]
  },
  {
   "cell_type": "markdown",
   "metadata": {},
   "source": [
    "Implement the KNN regressor function: \n",
    "                \n",
    "                knn(train.data, train.label, test.data, K=4)\n",
    "which takes the training data and their labels (continuous values), the test set, and the size of the neighborhood (K). It should return the regressed values for the test data points. Note that, you need to use a distance function to choose the neighbors. The distance function used to measure the distance between a pair of data points is Euclidean distance function.\n"
   ]
  },
  {
   "cell_type": "markdown",
   "metadata": {},
   "source": [
    "### Libraries Used"
   ]
  },
  {
   "cell_type": "code",
   "execution_count": 2,
   "metadata": {},
   "outputs": [],
   "source": [
    "library(reshape2) # to reshape the data\n",
    "library (ggplot2) # for data visualisation"
   ]
  },
  {
   "cell_type": "markdown",
   "metadata": {},
   "source": [
    "### Load and Explore Data"
   ]
  },
  {
   "cell_type": "code",
   "execution_count": 5,
   "metadata": {},
   "outputs": [],
   "source": [
    "# REading the data from csv \n",
    "Train= read.csv('Task1A_train.csv')\n",
    "Test= read.csv('Task1A_test.csv')"
   ]
  },
  {
   "cell_type": "code",
   "execution_count": 6,
   "metadata": {},
   "outputs": [
    {
     "data": {
      "text/html": [
       "<table>\n",
       "<thead><tr><th scope=col>x1</th><th scope=col>y</th></tr></thead>\n",
       "<tbody>\n",
       "\t<tr><td>1960.0</td><td>0.71  </td></tr>\n",
       "\t<tr><td>1960.5</td><td>0.85  </td></tr>\n",
       "\t<tr><td>1961.0</td><td>0.61  </td></tr>\n",
       "\t<tr><td>1961.5</td><td>0.92  </td></tr>\n",
       "\t<tr><td>1962.0</td><td>0.72  </td></tr>\n",
       "\t<tr><td>1962.5</td><td>0.92  </td></tr>\n",
       "</tbody>\n",
       "</table>\n"
      ],
      "text/latex": [
       "\\begin{tabular}{r|ll}\n",
       " x1 & y\\\\\n",
       "\\hline\n",
       "\t 1960.0 & 0.71  \\\\\n",
       "\t 1960.5 & 0.85  \\\\\n",
       "\t 1961.0 & 0.61  \\\\\n",
       "\t 1961.5 & 0.92  \\\\\n",
       "\t 1962.0 & 0.72  \\\\\n",
       "\t 1962.5 & 0.92  \\\\\n",
       "\\end{tabular}\n"
      ],
      "text/markdown": [
       "\n",
       "x1 | y | \n",
       "|---|---|---|---|---|---|\n",
       "| 1960.0 | 0.71   | \n",
       "| 1960.5 | 0.85   | \n",
       "| 1961.0 | 0.61   | \n",
       "| 1961.5 | 0.92   | \n",
       "| 1962.0 | 0.72   | \n",
       "| 1962.5 | 0.92   | \n",
       "\n",
       "\n"
      ],
      "text/plain": [
       "  x1     y   \n",
       "1 1960.0 0.71\n",
       "2 1960.5 0.85\n",
       "3 1961.0 0.61\n",
       "4 1961.5 0.92\n",
       "5 1962.0 0.72\n",
       "6 1962.5 0.92"
      ]
     },
     "metadata": {},
     "output_type": "display_data"
    }
   ],
   "source": [
    "# Checking first few rows \n",
    "head(Train)"
   ]
  },
  {
   "cell_type": "code",
   "execution_count": 7,
   "metadata": {},
   "outputs": [
    {
     "data": {
      "text/html": [
       "<table>\n",
       "<thead><tr><th scope=col>x1</th><th scope=col>y</th></tr></thead>\n",
       "<tbody>\n",
       "\t<tr><td>1960.25</td><td>0.63   </td></tr>\n",
       "\t<tr><td>1960.75</td><td>0.44   </td></tr>\n",
       "\t<tr><td>1961.25</td><td>0.69   </td></tr>\n",
       "\t<tr><td>1961.75</td><td>0.55   </td></tr>\n",
       "\t<tr><td>1962.25</td><td>0.77   </td></tr>\n",
       "\t<tr><td>1962.75</td><td>0.60   </td></tr>\n",
       "</tbody>\n",
       "</table>\n"
      ],
      "text/latex": [
       "\\begin{tabular}{r|ll}\n",
       " x1 & y\\\\\n",
       "\\hline\n",
       "\t 1960.25 & 0.63   \\\\\n",
       "\t 1960.75 & 0.44   \\\\\n",
       "\t 1961.25 & 0.69   \\\\\n",
       "\t 1961.75 & 0.55   \\\\\n",
       "\t 1962.25 & 0.77   \\\\\n",
       "\t 1962.75 & 0.60   \\\\\n",
       "\\end{tabular}\n"
      ],
      "text/markdown": [
       "\n",
       "x1 | y | \n",
       "|---|---|---|---|---|---|\n",
       "| 1960.25 | 0.63    | \n",
       "| 1960.75 | 0.44    | \n",
       "| 1961.25 | 0.69    | \n",
       "| 1961.75 | 0.55    | \n",
       "| 1962.25 | 0.77    | \n",
       "| 1962.75 | 0.60    | \n",
       "\n",
       "\n"
      ],
      "text/plain": [
       "  x1      y   \n",
       "1 1960.25 0.63\n",
       "2 1960.75 0.44\n",
       "3 1961.25 0.69\n",
       "4 1961.75 0.55\n",
       "5 1962.25 0.77\n",
       "6 1962.75 0.60"
      ]
     },
     "metadata": {},
     "output_type": "display_data"
    }
   ],
   "source": [
    "# Checking first few rows \n",
    "head (Test) "
   ]
  },
  {
   "cell_type": "code",
   "execution_count": 8,
   "metadata": {},
   "outputs": [
    {
     "data": {
      "text/html": [
       "<ol class=list-inline>\n",
       "\t<li>42</li>\n",
       "\t<li>2</li>\n",
       "</ol>\n"
      ],
      "text/latex": [
       "\\begin{enumerate*}\n",
       "\\item 42\n",
       "\\item 2\n",
       "\\end{enumerate*}\n"
      ],
      "text/markdown": [
       "1. 42\n",
       "2. 2\n",
       "\n",
       "\n"
      ],
      "text/plain": [
       "[1] 42  2"
      ]
     },
     "metadata": {},
     "output_type": "display_data"
    },
    {
     "data": {
      "text/html": [
       "<ol class=list-inline>\n",
       "\t<li>42</li>\n",
       "\t<li>2</li>\n",
       "</ol>\n"
      ],
      "text/latex": [
       "\\begin{enumerate*}\n",
       "\\item 42\n",
       "\\item 2\n",
       "\\end{enumerate*}\n"
      ],
      "text/markdown": [
       "1. 42\n",
       "2. 2\n",
       "\n",
       "\n"
      ],
      "text/plain": [
       "[1] 42  2"
      ]
     },
     "metadata": {},
     "output_type": "display_data"
    }
   ],
   "source": [
    "# Checking the dimensions of Train and Test data\n",
    "dim (Train)\n",
    "dim (Test) "
   ]
  },
  {
   "cell_type": "code",
   "execution_count": 75,
   "metadata": {},
   "outputs": [
    {
     "data": {},
     "metadata": {},
     "output_type": "display_data"
    },
    {
     "data": {
      "image/png": "[encoded data removed]",
      "text/plain": [
       "plot without title"
      ]
     },
     "metadata": {},
     "output_type": "display_data"
    }
   ],
   "source": [
    "ggplot(data= Train,aes (x=x1,y=y) )+geom_point(color='Red') + scale_colour_manual(name =\"Data\", labels=c(\"Train\", \"Test\"),values=c(\"Red\",\"Blue\"))  +labs (x= \"Input\", y =\"Target\") +ggtitle (\"Red indicates Train Data, Blue indicates Test Data\")+geom_point(data= Test,aes (x=x1,y=y),color='Blue')\n"
   ]
  },
  {
   "cell_type": "code",
   "execution_count": 67,
   "metadata": {},
   "outputs": [],
   "source": [
    "#divinding train and test data into separate data and label columns \n",
    "train.data <- Train\n",
    "train.label<-Train[,'y']\n",
    "test.data<- Test\n",
    "test.label<-Test[,'y']"
   ]
  },
  {
   "cell_type": "markdown",
   "metadata": {},
   "source": [
    "### KNN Regressor"
   ]
  },
  {
   "cell_type": "code",
   "execution_count": 68,
   "metadata": {},
   "outputs": [],
   "source": [
    "# KNN function (distance should be one of euclidean, maximum, manhattan, canberra, binary or minkowski)\n",
    "knn <- function(train.data, train.label, test.data, K=4, distance = 'euclidean'){\n",
    "    ## count number of train samples\n",
    "    train.len <- nrow(train.data)\n",
    "    \n",
    "    ## count number of test samples\n",
    "    test.len <- nrow(test.data)\n",
    "    ## calculate distances between samples\n",
    "    dist <- as.matrix(dist(rbind(test.data, train.data), method= 'euclidean'))[1:test.len, (test.len+1):(test.len+train.len)]\n",
    "    \n",
    "    ## for each test sample...\n",
    "    for (i in 1:test.len){\n",
    "        ### ...find its K nearest neighbours from training sampels...\n",
    "        nn <- as.data.frame(sort(dist[i,], index.return = TRUE))[1:K,2]\n",
    "        \n",
    "        ###... and calculate the predicted labels according to the majority vote\n",
    "        test.label[i]<- (mean(train.label[nn]))\n",
    "    }\n",
    "    \n",
    "    ## return the class labels as output\n",
    "    return (test.label)\n",
    "}"
   ]
  },
  {
   "cell_type": "markdown",
   "metadata": {},
   "source": [
    "### Test for KNN"
   ]
  },
  {
   "cell_type": "code",
   "execution_count": 69,
   "metadata": {},
   "outputs": [
    {
     "data": {
      "text/html": [
       "<ol class=list-inline>\n",
       "\t<li>0.7725</li>\n",
       "\t<li>0.7725</li>\n",
       "\t<li>0.775</li>\n",
       "\t<li>0.7925</li>\n",
       "\t<li>0.8475</li>\n",
       "\t<li>0.8675</li>\n",
       "\t<li>0.9175</li>\n",
       "\t<li>0.9975</li>\n",
       "\t<li>1.08</li>\n",
       "\t<li>1.1925</li>\n",
       "\t<li>1.2775</li>\n",
       "\t<li>1.4325</li>\n",
       "\t<li>1.525</li>\n",
       "\t<li>1.62</li>\n",
       "\t<li>1.6875</li>\n",
       "\t<li>1.8075</li>\n",
       "\t<li>1.965</li>\n",
       "\t<li>2.1825</li>\n",
       "\t<li>2.4975</li>\n",
       "\t<li>2.4975</li>\n",
       "\t<li>3.195</li>\n",
       "\t<li>3.6</li>\n",
       "\t<li>4.1175</li>\n",
       "\t<li>4.455</li>\n",
       "\t<li>4.95</li>\n",
       "\t<li>4.95</li>\n",
       "\t<li>5.805</li>\n",
       "\t<li>5.805</li>\n",
       "\t<li>6.615</li>\n",
       "\t<li>6.615</li>\n",
       "\t<li>7.3575</li>\n",
       "\t<li>7.3575</li>\n",
       "\t<li>8.3475</li>\n",
       "\t<li>7.695</li>\n",
       "\t<li>9.81</li>\n",
       "\t<li>8.775</li>\n",
       "\t<li>11.9025</li>\n",
       "\t<li>8.775</li>\n",
       "\t<li>13.23</li>\n",
       "\t<li>10.7775</li>\n",
       "\t<li>15.2775</li>\n",
       "\t<li>13.23</li>\n",
       "</ol>\n"
      ],
      "text/latex": [
       "\\begin{enumerate*}\n",
       "\\item 0.7725\n",
       "\\item 0.7725\n",
       "\\item 0.775\n",
       "\\item 0.7925\n",
       "\\item 0.8475\n",
       "\\item 0.8675\n",
       "\\item 0.9175\n",
       "\\item 0.9975\n",
       "\\item 1.08\n",
       "\\item 1.1925\n",
       "\\item 1.2775\n",
       "\\item 1.4325\n",
       "\\item 1.525\n",
       "\\item 1.62\n",
       "\\item 1.6875\n",
       "\\item 1.8075\n",
       "\\item 1.965\n",
       "\\item 2.1825\n",
       "\\item 2.4975\n",
       "\\item 2.4975\n",
       "\\item 3.195\n",
       "\\item 3.6\n",
       "\\item 4.1175\n",
       "\\item 4.455\n",
       "\\item 4.95\n",
       "\\item 4.95\n",
       "\\item 5.805\n",
       "\\item 5.805\n",
       "\\item 6.615\n",
       "\\item 6.615\n",
       "\\item 7.3575\n",
       "\\item 7.3575\n",
       "\\item 8.3475\n",
       "\\item 7.695\n",
       "\\item 9.81\n",
       "\\item 8.775\n",
       "\\item 11.9025\n",
       "\\item 8.775\n",
       "\\item 13.23\n",
       "\\item 10.7775\n",
       "\\item 15.2775\n",
       "\\item 13.23\n",
       "\\end{enumerate*}\n"
      ],
      "text/markdown": [
       "1. 0.7725\n",
       "2. 0.7725\n",
       "3. 0.775\n",
       "4. 0.7925\n",
       "5. 0.8475\n",
       "6. 0.8675\n",
       "7. 0.9175\n",
       "8. 0.9975\n",
       "9. 1.08\n",
       "10. 1.1925\n",
       "11. 1.2775\n",
       "12. 1.4325\n",
       "13. 1.525\n",
       "14. 1.62\n",
       "15. 1.6875\n",
       "16. 1.8075\n",
       "17. 1.965\n",
       "18. 2.1825\n",
       "19. 2.4975\n",
       "20. 2.4975\n",
       "21. 3.195\n",
       "22. 3.6\n",
       "23. 4.1175\n",
       "24. 4.455\n",
       "25. 4.95\n",
       "26. 4.95\n",
       "27. 5.805\n",
       "28. 5.805\n",
       "29. 6.615\n",
       "30. 6.615\n",
       "31. 7.3575\n",
       "32. 7.3575\n",
       "33. 8.3475\n",
       "34. 7.695\n",
       "35. 9.81\n",
       "36. 8.775\n",
       "37. 11.9025\n",
       "38. 8.775\n",
       "39. 13.23\n",
       "40. 10.7775\n",
       "41. 15.2775\n",
       "42. 13.23\n",
       "\n",
       "\n"
      ],
      "text/plain": [
       " [1]  0.7725  0.7725  0.7750  0.7925  0.8475  0.8675  0.9175  0.9975  1.0800\n",
       "[10]  1.1925  1.2775  1.4325  1.5250  1.6200  1.6875  1.8075  1.9650  2.1825\n",
       "[19]  2.4975  2.4975  3.1950  3.6000  4.1175  4.4550  4.9500  4.9500  5.8050\n",
       "[28]  5.8050  6.6150  6.6150  7.3575  7.3575  8.3475  7.6950  9.8100  8.7750\n",
       "[37] 11.9025  8.7750 13.2300 10.7775 15.2775 13.2300"
      ]
     },
     "metadata": {},
     "output_type": "display_data"
    }
   ],
   "source": [
    "#Testing the method\n",
    "knn(train.data, train.label, test.data, K=4)"
   ]
  },
  {
   "cell_type": "markdown",
   "metadata": {},
   "source": [
    "### Task II"
   ]
  },
  {
   "cell_type": "markdown",
   "metadata": {},
   "source": [
    "Plot the training and the testing errors versus 1/$K$ for K=1,..,20 in one plot,\n",
    "using the **Task1A_train.csv** and **Task1A_test.csv** datasets provided for\n",
    "this assignment. Save the plot in your Jupyter Notebook file for\n",
    "Question 1. Report your chosen error function in your Jupyter Notebook\n",
    "file."
   ]
  },
  {
   "cell_type": "markdown",
   "metadata": {},
   "source": [
    "* Root Mean Square Error is used in the solution as it is more sensitive to outliers and will make large error undesirable for this case. \n",
    "(Reference: https://medium.com/human-in-a-machine-world/mae-and-rmse-which-metric-is-better-e60ac3bde13d)\n",
    "\n",
    "It's formula is given by $$ RMSE=\\sqrt{\\frac{1}{n}\\sum_{t=1}^{n}e_t^2}  \\\\\n",
    "$$"
   ]
  },
  {
   "cell_type": "markdown",
   "metadata": {},
   "source": [
    "#### Error Calculation"
   ]
  },
  {
   "cell_type": "code",
   "execution_count": 71,
   "metadata": {},
   "outputs": [],
   "source": [
    "# calculate the train and test RMSE rates for K in 1:20\n",
    "# THIS MAY TAKE A FEW MINUTES TO COMPLETE!\n",
    "miss <- data.frame('K'=1:20, 'train'=rep(0,20), 'test'=rep(0,20))\n",
    "for (k in 1:20){\n",
    "    miss[k,'train'] <- sqrt(mean((knn(train.data, train.label, train.data, K=k) - train.label)^2))\n",
    "    miss[k,'test'] <-  sqrt(mean((knn(train.data, train.label, test.data, K=k)  - test.label)^2))\n",
    "}"
   ]
  },
  {
   "cell_type": "markdown",
   "metadata": {},
   "source": [
    "#### Visualisation"
   ]
  },
  {
   "cell_type": "code",
   "execution_count": 76,
   "metadata": {},
   "outputs": [],
   "source": [
    "# Finding the minimum x and y coordinates for train and test error \n",
    "x_tr_min=1/which.min(miss$train); y_tr_min=min(miss$train)\n",
    "x_ts_min=1/which.min(miss$test); y_ts_min=min(miss$test)\n",
    "# Reference: https://stat.ethz.ch/R-manual/R-devel/library/base/html/which.min.html"
   ]
  },
  {
   "cell_type": "code",
   "execution_count": 93,
   "metadata": {},
   "outputs": [
    {
     "data": {},
     "metadata": {},
     "output_type": "display_data"
    },
    {
     "data": {
      "image/png": "[encoded data removed]",
      "text/plain": [
       "plot without title"
      ]
     },
     "metadata": {},
     "output_type": "display_data"
    }
   ],
   "source": [
    "# plot misclassification percentage for train and test data sets\n",
    "miss.m <- melt(miss, id='K') # reshape for visualization\n",
    "names(miss.m) <- c('K', 'type', 'error')\n",
    "ggplot(data=miss.m, aes(x=(1/K), y=error, color=type)) + geom_line() + geom_point(shape=23, fill='black')+\n",
    "  scale_color_discrete(guide = guide_legend(title = NULL)) + theme_minimal() +\n",
    "  ggtitle(\"Root Mean Squrare Error comparison of Train and Test Data\")+  \n",
    "  geom_point(aes(x=x_tr_min, y=y_tr_min), colour=\"red\") +\n",
    "  geom_point(aes(x=x_ts_min, y=y_ts_min), colour=\"red\")\n"
   ]
  },
  {
   "cell_type": "markdown",
   "metadata": {},
   "source": [
    "#### Task III"
   ]
  },
  {
   "cell_type": "markdown",
   "metadata": {},
   "source": [
    "Report (in your Jupyter Notebook file) the optimum value for K in terms\n",
    "of the testing error. Discuss the values of K corresponding to underfitting\n",
    "and overfitting based on your plot in the previous part (Part II)."
   ]
  },
  {
   "cell_type": "markdown",
   "metadata": {},
   "source": [
    "**Observations:**\n",
    "- Training error is zero (minimum) for K=1 and there is difference in training and testing Error indicating there is **overfitting** for K=1.\n",
    "- Testing Error is minimum for K=5 which indicates the biar-varience trade off point and is the most **optimal** K.\n",
    "- Training and Testing Error starts increasing wiht increase in K (for K>5) which indicates **underfitting**.\n"
   ]
  }
 ],
 "metadata": {
  "kernelspec": {
   "display_name": "R",
   "language": "R",
   "name": "ir"
  },
  "language_info": {
   "codemirror_mode": "r",
   "file_extension": ".r",
   "mimetype": "text/x-r-source",
   "name": "R",
   "pygments_lexer": "r",
   "version": "3.4.3"
  }
 },
 "nbformat": 4,
 "nbformat_minor": 2
}

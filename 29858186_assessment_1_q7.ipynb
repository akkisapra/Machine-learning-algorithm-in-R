{
 "cells": [
  {
   "cell_type": "markdown",
   "metadata": {},
   "source": [
    "# Section F. Logistic Regression vs. Bayesian Classifier\n"
   ]
  },
  {
   "cell_type": "markdown",
   "metadata": {},
   "source": [
    "## Discriminative vs Generative Models (Question 7 )\n"
   ]
  },
  {
   "cell_type": "markdown",
   "metadata": {},
   "source": [
    " - Student Name: Akshay Sapra \n",
    " - Stuident ID: 29858186\n",
    " \n",
    "Programming Language used: R in Jupyter Notebook\n",
    "\n",
    "Libraries Used: \n",
    "- mvtnorm - Computes multivariate normal and t probabilities, quantiles, random deviates and densities.\n",
    "- reshape2 - To reshape the data\n",
    "- ggplot2 - for data visualisations"
   ]
  },
  {
   "cell_type": "markdown",
   "metadata": {},
   "source": [
    "### Steps for the solution\n",
    "<ol>\n",
    "\t<li>Load the Train and test dataset provided as part of the assignment specification,</li>\n",
    "    <li>Define the Bayesian Classifier and Loggistic Regression function,</li>\n",
    "       <li>Train the models with 5 rows at a time,</li>\n",
    "\t<li>Report the observations on the effect of size of training sets on the classifier models.</li>\n",
    "\t"
   ]
  },
  {
   "cell_type": "markdown",
   "metadata": {},
   "source": [
    "### Libraries used"
   ]
  },
  {
   "cell_type": "code",
   "execution_count": 86,
   "metadata": {},
   "outputs": [],
   "source": [
    "library(mvtnorm) # Computes multivariate normal and t probabilities, quantiles, random deviates and densities.\n",
    "library(reshape2) # To reshape the data\n",
    "library (ggplot2) # for data visualisations"
   ]
  },
  {
   "cell_type": "markdown",
   "metadata": {},
   "source": [
    "### Load And Explore Data"
   ]
  },
  {
   "cell_type": "markdown",
   "metadata": {},
   "source": [
    "#### Task 1\n",
    "\n",
    "Load Task1E_train.csv and Task1E_test.csv as well as the Bayesian\n",
    "classifier (BC) and logistic regression (LR) codes from Activities 2 and 3 in\n",
    "Module 3."
   ]
  },
  {
   "cell_type": "code",
   "execution_count": 11,
   "metadata": {},
   "outputs": [],
   "source": [
    "# REading the data from csv \n",
    "Train= read.csv('Task1E_train.csv')\n",
    "Test= read.csv('Task1E_test.csv')"
   ]
  },
  {
   "cell_type": "code",
   "execution_count": 12,
   "metadata": {},
   "outputs": [
    {
     "data": {
      "text/html": [
       "<table>\n",
       "<thead><tr><th scope=col>x1</th><th scope=col>x2</th><th scope=col>y</th></tr></thead>\n",
       "<tbody>\n",
       "\t<tr><td>-0.4367052</td><td>3.171451  </td><td>-1        </td></tr>\n",
       "\t<tr><td> 5.1048972</td><td>1.227815  </td><td> 1        </td></tr>\n",
       "\t<tr><td> 3.9974518</td><td>1.049502  </td><td> 1        </td></tr>\n",
       "\t<tr><td> 2.5354540</td><td>1.242902  </td><td> 1        </td></tr>\n",
       "\t<tr><td> 4.2624556</td><td>2.551909  </td><td> 1        </td></tr>\n",
       "\t<tr><td> 1.5505866</td><td>2.595164  </td><td>-1        </td></tr>\n",
       "</tbody>\n",
       "</table>\n"
      ],
      "text/latex": [
       "\\begin{tabular}{r|lll}\n",
       " x1 & x2 & y\\\\\n",
       "\\hline\n",
       "\t -0.4367052 & 3.171451   & -1        \\\\\n",
       "\t  5.1048972 & 1.227815   &  1        \\\\\n",
       "\t  3.9974518 & 1.049502   &  1        \\\\\n",
       "\t  2.5354540 & 1.242902   &  1        \\\\\n",
       "\t  4.2624556 & 2.551909   &  1        \\\\\n",
       "\t  1.5505866 & 2.595164   & -1        \\\\\n",
       "\\end{tabular}\n"
      ],
      "text/markdown": [
       "\n",
       "x1 | x2 | y | \n",
       "|---|---|---|---|---|---|\n",
       "| -0.4367052 | 3.171451   | -1         | \n",
       "|  5.1048972 | 1.227815   |  1         | \n",
       "|  3.9974518 | 1.049502   |  1         | \n",
       "|  2.5354540 | 1.242902   |  1         | \n",
       "|  4.2624556 | 2.551909   |  1         | \n",
       "|  1.5505866 | 2.595164   | -1         | \n",
       "\n",
       "\n"
      ],
      "text/plain": [
       "  x1         x2       y \n",
       "1 -0.4367052 3.171451 -1\n",
       "2  5.1048972 1.227815  1\n",
       "3  3.9974518 1.049502  1\n",
       "4  2.5354540 1.242902  1\n",
       "5  4.2624556 2.551909  1\n",
       "6  1.5505866 2.595164 -1"
      ]
     },
     "metadata": {},
     "output_type": "display_data"
    }
   ],
   "source": [
    "# Checking first few rows \n",
    "head(Train)"
   ]
  },
  {
   "cell_type": "code",
   "execution_count": 13,
   "metadata": {},
   "outputs": [
    {
     "data": {
      "text/html": [
       "<table>\n",
       "<thead><tr><th scope=col>x1</th><th scope=col>x2</th><th scope=col>y</th></tr></thead>\n",
       "<tbody>\n",
       "\t<tr><td> 3.4781571 </td><td>-0.51546992</td><td> 1         </td></tr>\n",
       "\t<tr><td> 4.8959781 </td><td> 0.95320554</td><td> 1         </td></tr>\n",
       "\t<tr><td>-0.5783557 </td><td> 5.44553527</td><td>-1         </td></tr>\n",
       "\t<tr><td> 3.8417831 </td><td> 0.65759443</td><td> 1         </td></tr>\n",
       "\t<tr><td> 2.2649154 </td><td> 4.18082840</td><td>-1         </td></tr>\n",
       "\t<tr><td> 3.8550566 </td><td>-0.08328894</td><td> 1         </td></tr>\n",
       "</tbody>\n",
       "</table>\n"
      ],
      "text/latex": [
       "\\begin{tabular}{r|lll}\n",
       " x1 & x2 & y\\\\\n",
       "\\hline\n",
       "\t  3.4781571  & -0.51546992 &  1         \\\\\n",
       "\t  4.8959781  &  0.95320554 &  1         \\\\\n",
       "\t -0.5783557  &  5.44553527 & -1         \\\\\n",
       "\t  3.8417831  &  0.65759443 &  1         \\\\\n",
       "\t  2.2649154  &  4.18082840 & -1         \\\\\n",
       "\t  3.8550566  & -0.08328894 &  1         \\\\\n",
       "\\end{tabular}\n"
      ],
      "text/markdown": [
       "\n",
       "x1 | x2 | y | \n",
       "|---|---|---|---|---|---|\n",
       "|  3.4781571  | -0.51546992 |  1          | \n",
       "|  4.8959781  |  0.95320554 |  1          | \n",
       "| -0.5783557  |  5.44553527 | -1          | \n",
       "|  3.8417831  |  0.65759443 |  1          | \n",
       "|  2.2649154  |  4.18082840 | -1          | \n",
       "|  3.8550566  | -0.08328894 |  1          | \n",
       "\n",
       "\n"
      ],
      "text/plain": [
       "  x1         x2          y \n",
       "1  3.4781571 -0.51546992  1\n",
       "2  4.8959781  0.95320554  1\n",
       "3 -0.5783557  5.44553527 -1\n",
       "4  3.8417831  0.65759443  1\n",
       "5  2.2649154  4.18082840 -1\n",
       "6  3.8550566 -0.08328894  1"
      ]
     },
     "metadata": {},
     "output_type": "display_data"
    }
   ],
   "source": [
    "# Checking first few rows \n",
    "head(Test)"
   ]
  },
  {
   "cell_type": "code",
   "execution_count": 14,
   "metadata": {},
   "outputs": [
    {
     "data": {
      "text/html": [
       "<ol class=list-inline>\n",
       "\t<li>500</li>\n",
       "\t<li>3</li>\n",
       "</ol>\n"
      ],
      "text/latex": [
       "\\begin{enumerate*}\n",
       "\\item 500\n",
       "\\item 3\n",
       "\\end{enumerate*}\n"
      ],
      "text/markdown": [
       "1. 500\n",
       "2. 3\n",
       "\n",
       "\n"
      ],
      "text/plain": [
       "[1] 500   3"
      ]
     },
     "metadata": {},
     "output_type": "display_data"
    },
    {
     "data": {
      "text/html": [
       "<ol class=list-inline>\n",
       "\t<li>500</li>\n",
       "\t<li>3</li>\n",
       "</ol>\n"
      ],
      "text/latex": [
       "\\begin{enumerate*}\n",
       "\\item 500\n",
       "\\item 3\n",
       "\\end{enumerate*}\n"
      ],
      "text/markdown": [
       "1. 500\n",
       "2. 3\n",
       "\n",
       "\n"
      ],
      "text/plain": [
       "[1] 500   3"
      ]
     },
     "metadata": {},
     "output_type": "display_data"
    }
   ],
   "source": [
    "# checking dimension of the data \n",
    "dim (Train)\n",
    "dim(Train)"
   ]
  },
  {
   "cell_type": "markdown",
   "metadata": {},
   "source": [
    "#### Bayesian Classifier Function"
   ]
  },
  {
   "cell_type": "code",
   "execution_count": 65,
   "metadata": {},
   "outputs": [],
   "source": [
    "BC <- function (Train, Test){\n",
    "    #divinding train and test data into separate data and label columns \n",
    "    #have not used indices as train and test data both are separate\n",
    "    train.data <- Train[,-3]\n",
    "    train.label<-Train[,'y']\n",
    "    test.data<- Test [,-3]\n",
    "    test.label<-Test[,'y']\n",
    "    \n",
    "    c0 <- '1';    c1 <- '-1' # class labels\n",
    "    # Class probabilities:\n",
    "    p0.hat <- sum(train.label==c0)/nrow(train.data) # total number of samples in class 0 divided by the total nmber of training data\n",
    "    p1.hat <- sum(train.label==c1)/nrow(train.data) # or simply 1 - p1.hat\n",
    "    # Class means:\n",
    "    mu0.hat <- colMeans(train.data[train.label==c0,])\n",
    "    mu1.hat <- colMeans(train.data[train.label==c1,])\n",
    "    # class covariance matrices:\n",
    "    sigma0.hat <- var(train.data[train.label==c0,])\n",
    "    sigma1.hat <- var(train.data[train.label==c1,])\n",
    "\n",
    "    # shared covariance matrix:\n",
    "    sigma.hat <- p0.hat * sigma0.hat + p1.hat * sigma1.hat \n",
    "    # calculate posteriors:\n",
    "    posterior0 <- p0.hat*dmvnorm(x=train.data, mean=mu0.hat, sigma=sigma.hat)\n",
    "    posterior1 <- p1.hat*dmvnorm(x=train.data, mean=mu1.hat, sigma=sigma.hat)\n",
    "    # calculate predictions:\n",
    "    train.predict <- ifelse(posterior0 > posterior1, c0, c1)\n",
    "    test.predict <- ifelse(p0.hat*dmvnorm(x=test.data, mean=mu0.hat, sigma=sigma.hat) > p1.hat*dmvnorm(x=test.data, mean=mu1.hat, sigma=sigma.hat), c0, c1)\n",
    "    train.accuracy = sum(train.label==train.predict)/nrow(train.data)*100\n",
    "    test.accuracy = sum(test.label==test.predict)/nrow(test.data)*100\n",
    "    train.error = sum(train.label!=train.predict)/nrow(train.data)*100\n",
    "    test.error = sum(test.label!=test.predict)/nrow(test.data)*100\n",
    "\n",
    "    return (list(train.error, test.error))\n",
    "}"
   ]
  },
  {
   "cell_type": "markdown",
   "metadata": {},
   "source": [
    "#### Loggistic Regression Function"
   ]
  },
  {
   "cell_type": "code",
   "execution_count": 60,
   "metadata": {},
   "outputs": [],
   "source": [
    "# auxiliary function that predicts class labels\n",
    "predict <- function(w, X, c0, c1){\n",
    "    sig <- sigmoid(w, X)\n",
    "    return(ifelse(sig>0.5, c1,c0))\n",
    "}\n",
    "    \n",
    "# auxiliary function that calculate a cost function\n",
    "cost <- function (w, X, T, c0){\n",
    "  \n",
    "    sig <- sigmoid(w, X)\n",
    "    return(sum(ifelse(T==c0, 1-sig, sig)))\n",
    "}\n",
    "\n",
    "# Sigmoid function (=p(C1|X))\n",
    "sigmoid <- function(w, x){\n",
    "    return(1.0/(1.0+exp(-w %*% t(cbind(1,x)))))    \n",
    "}\n",
    "\n",
    "LR <- function (Train, Test){\n",
    "    #divinding train and test data into separate data and label columns \n",
    "    #have not used indices as train and test data both are separate\n",
    "    train.data <- Train[,-3]\n",
    "    train.label<-Train[,'y']\n",
    "    test.data<- Test [,-3]\n",
    "    test.label<-Test[,'y']\n",
    "    \n",
    "    c0 <- '1'; c1 <- '-1' # class labels\n",
    "    train.len <- nrow(train.data)\n",
    "\n",
    "    \n",
    "    # Initializations\n",
    "    tau.max <- 1000 # maximum number of iterations\n",
    "    eta <- 0.01 # learning rate\n",
    "    epsilon <- 0.01 # a threshold on the cost (to terminate the process)\n",
    "    tau <- 1 # iteration counter\n",
    "    terminate <- FALSE\n",
    "\n",
    "    ## Just a few name/type conversion to make the rest of the code easy to follow\n",
    "    X <- as.matrix(train.data) # rename just for conviniance\n",
    "    T <- ifelse(train.label==c0,0,1) # rename just for conviniance\n",
    "\n",
    "    W <- matrix(,nrow=tau.max, ncol=(ncol(X)+1)) # to be used to store the estimated coefficients\n",
    "    W[1,] <- runif(ncol(W)) # initial weight (any better idea?)\n",
    "\n",
    "    # project data using the sigmoid function (just for convenient)\n",
    "    Y <- sigmoid(W[1,],X)\n",
    "\n",
    "    costs <- data.frame('tau'=1:tau.max)  # to be used to trace the cost in each iteration\n",
    "    costs[1, 'cost'] <- cost(W[1,],X,T, c0)\n",
    "    while(!terminate){\n",
    "    # check termination criteria:\n",
    "    terminate <- tau >= tau.max | cost(W[tau,],X,T, c0)<=epsilon\n",
    "    \n",
    "    # shuffle data:\n",
    "    train.index <- sample(1:train.len, train.len, replace = FALSE)\n",
    "    X <- X[train.index,]\n",
    "    T <- T[train.index]\n",
    "    \n",
    "    # for each datapoint:\n",
    "    for (i in 1:train.len){\n",
    "        # check termination criteria:\n",
    "        if (tau >= tau.max | cost(W[tau,],X,T, c0) <=epsilon) {terminate<-TRUE;break}\n",
    "        \n",
    "        Y <- sigmoid(W[tau,],X)\n",
    "            \n",
    "        # Update the weights\n",
    "        W[(tau+1),] <- W[tau,] - eta * (Y[i]-T[i]) * cbind(1, t(X[i,]))\n",
    "        \n",
    "        # record the cost:\n",
    "        costs[(tau+1), 'cost'] <- cost(W[tau,],X,T, c0)\n",
    "        \n",
    "        # update the counter:\n",
    "        tau <- tau + 1\n",
    "        \n",
    "        # decrease learning rate:\n",
    "        eta = eta * 0.999\n",
    "    }\n",
    "    }\n",
    "    # Done!\n",
    "    costs <- costs[1:tau, ] # remove the NaN tail of the vector (in case of early stopping)\n",
    "\n",
    "    # the  final result is:\n",
    "    w <- W[tau,]\n",
    "    # calculate predictions:\n",
    "    train.predict <- predict (w,train.data,c0,c1)\n",
    "    test.predict <- predict (w,test.data,c0,c1)\n",
    "    train.accuracy = sum(train.label==train.predict)/nrow(train.data)*100\n",
    "    test.accuracy = sum(test.label==test.predict)/nrow(test.data)*100\n",
    "    train.error = sum(train.label!=train.predict)/nrow(train.data)*100\n",
    "    test.error = sum(test.label!=test.predict)/nrow(test.data)*100\n",
    "    return (list(train.error,test.error))\n",
    "}\n"
   ]
  },
  {
   "cell_type": "code",
   "execution_count": 61,
   "metadata": {},
   "outputs": [
    {
     "data": {
      "text/html": [
       "<ol>\n",
       "\t<li>0</li>\n",
       "\t<li>20</li>\n",
       "</ol>\n"
      ],
      "text/latex": [
       "\\begin{enumerate}\n",
       "\\item 0\n",
       "\\item 20\n",
       "\\end{enumerate}\n"
      ],
      "text/markdown": [
       "1. 0\n",
       "2. 20\n",
       "\n",
       "\n"
      ],
      "text/plain": [
       "[[1]]\n",
       "[1] 0\n",
       "\n",
       "[[2]]\n",
       "[1] 20\n"
      ]
     },
     "metadata": {},
     "output_type": "display_data"
    }
   ],
   "source": [
    "LR(Train[1:5,], Test[1:5,])"
   ]
  },
  {
   "cell_type": "markdown",
   "metadata": {},
   "source": [
    "#### Task II\n",
    "Using the first 5 data points from the training set, train a BC and a LR\n",
    "model, and compute their test errors. In a “for loop”, increase the size of\n",
    "training set (5 data points at a time), retrain the models and calculate\n",
    "their test errors until all training data points are used. In one figure, plot\n",
    "the test errors for each model (with different colors) versus the size of the\n",
    "training set; include the plot in your Jupyter Notebook file for Question 7. "
   ]
  },
  {
   "cell_type": "code",
   "execution_count": 72,
   "metadata": {},
   "outputs": [],
   "source": [
    "#Computing test error by gradually increase the training set by 5 variables in each iterations\n",
    "BC.error <- data.frame (\"Num\"=rep(0,100), \"BC\"=rep(0,100))\n",
    "LR.error <- data.frame (\"Num\"=rep(0,100), \"LR\"=rep(0,100))\n",
    "#for loop to increase the training set\n",
    "for (i in 1:100){\n",
    "    j=i*5\n",
    "    BC.result <- BC(Train[1:j,], Test[1:j,])\n",
    "    BC.error[i,] <- c(j,BC.result[2])\n",
    "    LR.result <- LR(Train[1:j,], Test[1:j,])\n",
    "    LR.error[i,] <- c(j,LR.result[2])   \n",
    "}\n",
    "\n"
   ]
  },
  {
   "cell_type": "code",
   "execution_count": null,
   "metadata": {},
   "outputs": [],
   "source": [
    "#Combining two datasets\n",
    "result = cbind (LR.error,\"BC\"=BC.error[,2] )\n",
    "#REshaping the data\n",
    "result.m=melt(result, id=c('Num'))\n"
   ]
  },
  {
   "cell_type": "markdown",
   "metadata": {},
   "source": [
    "#### Visualisation"
   ]
  },
  {
   "cell_type": "code",
   "execution_count": 92,
   "metadata": {},
   "outputs": [
    {
     "data": {},
     "metadata": {},
     "output_type": "display_data"
    },
    {
     "data": {
      "image/png": "[encoded data removed]",
      "text/plain": [
       "plot without title"
      ]
     },
     "metadata": {},
     "output_type": "display_data"
    }
   ],
   "source": [
    "#Note that for every N errors for SGD in the plot, you will only have one error for BGD; the total length of the x-axis will be 18x N.\n",
    "ggplot(data=result.m, aes(x=Num, y=value, color=variable)) + geom_line() + \n",
    "  scale_color_discrete(guide = guide_legend(title = NULL)) + theme_minimal() +\n",
    "  ggtitle(\"Comparison of Test Error between Loggistic regression & Baye's Classifier\")+ylab(\"Error\")+xlab(\"Data Points\")"
   ]
  },
  {
   "cell_type": "markdown",
   "metadata": {},
   "source": [
    "#### Task III"
   ]
  },
  {
   "cell_type": "markdown",
   "metadata": {},
   "source": [
    "**Observations**\n",
    "- For Both of the classifiers Test Error starts to decrease rapidly on increasing the number of training data points.\n",
    "- It is evident from the graph that Baye's classifier should be the ideal choice when data set is small and Loggistic regression should be chosen when data size is big enough.\n",
    "- Both the algorithms are used for classification but one of the prime difference between them is BC is a generative model uses joint probability to classify the item hence works better with small training set while LR is a discriminative model which directly estimate the probability by finding the optimal decision boundary hence it works better with larger set."
   ]
  }
 ],
 "metadata": {
  "kernelspec": {
   "display_name": "R",
   "language": "R",
   "name": "ir"
  },
  "language_info": {
   "codemirror_mode": "r",
   "file_extension": ".r",
   "mimetype": "text/x-r-source",
   "name": "R",
   "pygments_lexer": "r",
   "version": "3.4.3"
  }
 },
 "nbformat": 4,
 "nbformat_minor": 2
}

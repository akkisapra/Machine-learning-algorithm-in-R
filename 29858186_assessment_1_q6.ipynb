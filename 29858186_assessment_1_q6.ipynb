{
 "cells": [
  {
   "cell_type": "markdown",
   "metadata": {},
   "source": [
    "# Section E. Multiclass Perceptron\n"
   ]
  },
  {
   "cell_type": "markdown",
   "metadata": {},
   "source": [
    "## Multiclass Perceptron (Question 6)\n"
   ]
  },
  {
   "cell_type": "markdown",
   "metadata": {},
   "source": [
    " - Student Name: Akshay Sapra \n",
    " - Stuident ID: 29858186\n",
    " \n",
    "Programming Language used: R in Jupyter Notebook\n",
    "\n",
    "Libraries Used: \n",
    "- base\n",
    "\n",
    "\n"
   ]
  },
  {
   "cell_type": "markdown",
   "metadata": {},
   "source": [
    "### Steps for the solution\n",
    "<ol>\n",
    "\t<li>Load the Train and test dataset provided as part of the assignment specification,</li>\n",
    "    <li>Define & implement the Perceptron function,</li>\n",
    "     <li>Assuming the class labels are $+1$ and $-1$, we take the following steps to build a perceptron:\n",
    "\n",
    " <li> Choose and implement a basis function $\\pmb{\\phi}$, and initialize weight vector $\\pmb{w}$, learning rate $\\eta$ and stopping threshold $\\epsilon$,</li>\n",
    "\n",
    "  <li><t> Use the above function and repeat the following until the improvement is superficial (i.e., $|E(\\pmb{w}^{(\\tau+1)})-E(\\pmb{w}^{(\\tau)})| < \\epsilon$):</li>\n",
    "\n",
    " </p> - Shuffle the training data\n",
    "\n",
    " <li> For each datapoint in the training data do:\n",
    "    <p>- Classify the sample using the current weight vector,</p>\n",
    "    <p>- If the sample correctly classified, pick the next point (continue the loop)</p>\n",
    "    <p>- If the sample misclassified, update the weight vector as $\\pmb{w}^{\\tau+1} := \\pmb{w}^{\\tau} + \\eta\\phi(\\pmb{x}_n) t_n$</p></li>\n",
    "\t<li>Report the fluctuations of error after processing mini batch.</li>\n",
    "\t\n",
    "</ol>"
   ]
  },
  {
   "cell_type": "markdown",
   "metadata": {},
   "source": [
    "### Load And Explore Data\n"
   ]
  },
  {
   "cell_type": "markdown",
   "metadata": {},
   "source": [
    "#### Taks I\n",
    "Load Task1D_train.csv and Task1D_test.csv sets."
   ]
  },
  {
   "cell_type": "code",
   "execution_count": 1,
   "metadata": {},
   "outputs": [],
   "source": [
    "## reading the data\n",
    "Train= read.csv('Task1D_train.csv')\n",
    "Test= read.csv('Task1D_test.csv')"
   ]
  },
  {
   "cell_type": "code",
   "execution_count": 2,
   "metadata": {},
   "outputs": [
    {
     "data": {
      "text/html": [
       "<table>\n",
       "<thead><tr><th scope=col>x1</th><th scope=col>x2</th><th scope=col>x3</th><th scope=col>x4</th><th scope=col>y</th></tr></thead>\n",
       "<tbody>\n",
       "\t<tr><td>5.1</td><td>3.5</td><td>1.4</td><td>0.2</td><td>C1 </td></tr>\n",
       "\t<tr><td>4.7</td><td>3.2</td><td>1.3</td><td>0.2</td><td>C1 </td></tr>\n",
       "\t<tr><td>5.0</td><td>3.6</td><td>1.4</td><td>0.2</td><td>C1 </td></tr>\n",
       "\t<tr><td>4.6</td><td>3.4</td><td>1.4</td><td>0.3</td><td>C1 </td></tr>\n",
       "\t<tr><td>4.4</td><td>2.9</td><td>1.4</td><td>0.2</td><td>C1 </td></tr>\n",
       "\t<tr><td>5.4</td><td>3.7</td><td>1.5</td><td>0.2</td><td>C1 </td></tr>\n",
       "</tbody>\n",
       "</table>\n"
      ],
      "text/latex": [
       "\\begin{tabular}{r|lllll}\n",
       " x1 & x2 & x3 & x4 & y\\\\\n",
       "\\hline\n",
       "\t 5.1 & 3.5 & 1.4 & 0.2 & C1 \\\\\n",
       "\t 4.7 & 3.2 & 1.3 & 0.2 & C1 \\\\\n",
       "\t 5.0 & 3.6 & 1.4 & 0.2 & C1 \\\\\n",
       "\t 4.6 & 3.4 & 1.4 & 0.3 & C1 \\\\\n",
       "\t 4.4 & 2.9 & 1.4 & 0.2 & C1 \\\\\n",
       "\t 5.4 & 3.7 & 1.5 & 0.2 & C1 \\\\\n",
       "\\end{tabular}\n"
      ],
      "text/markdown": [
       "\n",
       "x1 | x2 | x3 | x4 | y | \n",
       "|---|---|---|---|---|---|\n",
       "| 5.1 | 3.5 | 1.4 | 0.2 | C1  | \n",
       "| 4.7 | 3.2 | 1.3 | 0.2 | C1  | \n",
       "| 5.0 | 3.6 | 1.4 | 0.2 | C1  | \n",
       "| 4.6 | 3.4 | 1.4 | 0.3 | C1  | \n",
       "| 4.4 | 2.9 | 1.4 | 0.2 | C1  | \n",
       "| 5.4 | 3.7 | 1.5 | 0.2 | C1  | \n",
       "\n",
       "\n"
      ],
      "text/plain": [
       "  x1  x2  x3  x4  y \n",
       "1 5.1 3.5 1.4 0.2 C1\n",
       "2 4.7 3.2 1.3 0.2 C1\n",
       "3 5.0 3.6 1.4 0.2 C1\n",
       "4 4.6 3.4 1.4 0.3 C1\n",
       "5 4.4 2.9 1.4 0.2 C1\n",
       "6 5.4 3.7 1.5 0.2 C1"
      ]
     },
     "metadata": {},
     "output_type": "display_data"
    }
   ],
   "source": [
    "# Checking first few rows \n",
    "head(Train)"
   ]
  },
  {
   "cell_type": "code",
   "execution_count": 3,
   "metadata": {},
   "outputs": [
    {
     "data": {
      "text/html": [
       "<table>\n",
       "<thead><tr><th scope=col>x1</th><th scope=col>x2</th><th scope=col>x3</th><th scope=col>x4</th><th scope=col>y</th></tr></thead>\n",
       "<tbody>\n",
       "\t<tr><td>4.9</td><td>3.0</td><td>1.4</td><td>0.2</td><td>C1 </td></tr>\n",
       "\t<tr><td>4.6</td><td>3.1</td><td>1.5</td><td>0.2</td><td>C1 </td></tr>\n",
       "\t<tr><td>5.4</td><td>3.9</td><td>1.7</td><td>0.4</td><td>C1 </td></tr>\n",
       "\t<tr><td>5.0</td><td>3.4</td><td>1.5</td><td>0.2</td><td>C1 </td></tr>\n",
       "\t<tr><td>4.9</td><td>3.1</td><td>1.5</td><td>0.1</td><td>C1 </td></tr>\n",
       "\t<tr><td>4.8</td><td>3.4</td><td>1.6</td><td>0.2</td><td>C1 </td></tr>\n",
       "</tbody>\n",
       "</table>\n"
      ],
      "text/latex": [
       "\\begin{tabular}{r|lllll}\n",
       " x1 & x2 & x3 & x4 & y\\\\\n",
       "\\hline\n",
       "\t 4.9 & 3.0 & 1.4 & 0.2 & C1 \\\\\n",
       "\t 4.6 & 3.1 & 1.5 & 0.2 & C1 \\\\\n",
       "\t 5.4 & 3.9 & 1.7 & 0.4 & C1 \\\\\n",
       "\t 5.0 & 3.4 & 1.5 & 0.2 & C1 \\\\\n",
       "\t 4.9 & 3.1 & 1.5 & 0.1 & C1 \\\\\n",
       "\t 4.8 & 3.4 & 1.6 & 0.2 & C1 \\\\\n",
       "\\end{tabular}\n"
      ],
      "text/markdown": [
       "\n",
       "x1 | x2 | x3 | x4 | y | \n",
       "|---|---|---|---|---|---|\n",
       "| 4.9 | 3.0 | 1.4 | 0.2 | C1  | \n",
       "| 4.6 | 3.1 | 1.5 | 0.2 | C1  | \n",
       "| 5.4 | 3.9 | 1.7 | 0.4 | C1  | \n",
       "| 5.0 | 3.4 | 1.5 | 0.2 | C1  | \n",
       "| 4.9 | 3.1 | 1.5 | 0.1 | C1  | \n",
       "| 4.8 | 3.4 | 1.6 | 0.2 | C1  | \n",
       "\n",
       "\n"
      ],
      "text/plain": [
       "  x1  x2  x3  x4  y \n",
       "1 4.9 3.0 1.4 0.2 C1\n",
       "2 4.6 3.1 1.5 0.2 C1\n",
       "3 5.4 3.9 1.7 0.4 C1\n",
       "4 5.0 3.4 1.5 0.2 C1\n",
       "5 4.9 3.1 1.5 0.1 C1\n",
       "6 4.8 3.4 1.6 0.2 C1"
      ]
     },
     "metadata": {},
     "output_type": "display_data"
    }
   ],
   "source": [
    "# Checking first few rows \n",
    "head(Test)"
   ]
  },
  {
   "cell_type": "code",
   "execution_count": 4,
   "metadata": {},
   "outputs": [
    {
     "data": {
      "text/html": [
       "<ol class=list-inline>\n",
       "\t<li>75</li>\n",
       "\t<li>5</li>\n",
       "</ol>\n"
      ],
      "text/latex": [
       "\\begin{enumerate*}\n",
       "\\item 75\n",
       "\\item 5\n",
       "\\end{enumerate*}\n"
      ],
      "text/markdown": [
       "1. 75\n",
       "2. 5\n",
       "\n",
       "\n"
      ],
      "text/plain": [
       "[1] 75  5"
      ]
     },
     "metadata": {},
     "output_type": "display_data"
    },
    {
     "data": {
      "text/html": [
       "<ol class=list-inline>\n",
       "\t<li>75</li>\n",
       "\t<li>5</li>\n",
       "</ol>\n"
      ],
      "text/latex": [
       "\\begin{enumerate*}\n",
       "\\item 75\n",
       "\\item 5\n",
       "\\end{enumerate*}\n"
      ],
      "text/markdown": [
       "1. 75\n",
       "2. 5\n",
       "\n",
       "\n"
      ],
      "text/plain": [
       "[1] 75  5"
      ]
     },
     "metadata": {},
     "output_type": "display_data"
    }
   ],
   "source": [
    "# Checking the dimensions of Train and Test data\n",
    "dim(Train)\n",
    "dim(Test)"
   ]
  },
  {
   "cell_type": "code",
   "execution_count": 5,
   "metadata": {},
   "outputs": [],
   "source": [
    "#divinding train and test data into separate data and label columns \n",
    "train.data=Train [,-5]\n",
    "test.data=Test [,-5]\n",
    "train.label=Train[,5]\n",
    "test.label= Test[,5]\n"
   ]
  },
  {
   "cell_type": "markdown",
   "metadata": {},
   "source": [
    "#### Task 2\n",
    "Implement the multiclass perceptron as explained above. Please provide\n",
    "enough comments for your code in your submission"
   ]
  },
  {
   "cell_type": "markdown",
   "metadata": {},
   "source": [
    "#### Perceptron implementation"
   ]
  },
  {
   "cell_type": "code",
   "execution_count": 6,
   "metadata": {},
   "outputs": [],
   "source": [
    "# Main Loop (Step 2):\n",
    "perc <- function(Phi, train.label, W, eta, epsilon, tau.max, error.trace){\n",
    "    tau <- 1 # iteration counter \n",
    "    terminate <- FALSE #Termination status\n",
    "    train.len = nrow(Phi)\n",
    "    c0 <- '1'; c1 <- '-1' # class labels\n",
    "\n",
    "    \n",
    "    while(!terminate){\n",
    "    # resuffling train data and associated labels:\n",
    "    train.index <- sample(1:train.len, replace = FALSE)\n",
    "    Phi <- Phi[train.index,]\n",
    "    T <- T[train.index]\n",
    "\n",
    "    for (i in 1:train.len){\n",
    "        if (tau == tau.max) {break}\n",
    "              \n",
    "        # look for missclassified samples\n",
    "        if ((W[tau,]%*%Phi[i,])*T[i]<0){\n",
    "            \n",
    "            # update tau counter\n",
    "            tau <- tau +1\n",
    "            \n",
    "            # update the weights\n",
    "            W[tau,] <- W[tau-1,] + eta * Phi[i,] * T[i]\n",
    "            \n",
    "            # update the records\n",
    "            error.trace[tau] <- sum((Phi%*%W[tau,])*T<0)/train.len*100\n",
    "        } \n",
    "        \n",
    "    }\n",
    "    \n",
    "    # decrease eta:\n",
    "    eta = eta * 0.99\n",
    "    # recalculate termination conditions\n",
    "    terminate <- tau >= tau.max | \n",
    "        abs(sum((Phi%*%W[tau,])*T<0)/train.len - sum((Phi%*%W[tau-1,])*T<0)/train.len) <= epsilon \n",
    "    }\n",
    "    W <- W[1:tau,] # cut the empty part of the matrix (when the loop stops before tau == tau.max)\n",
    "    return (list(W,error.trace))\n",
    "    }"
   ]
  },
  {
   "cell_type": "markdown",
   "metadata": {},
   "source": [
    "#### Task 3\n",
    "Set the learning rate η to .09, and train the multiclass perceptron on the\n",
    "provided training data. After processing every 5 training data points (also\n",
    "known as a mini-batch), evaluate the error of the current model on the\n",
    "test data. Plot the error of the test data vs the number of mini-batches,\n",
    "and include it in your Jupyter Notebook file for Question 6. "
   ]
  },
  {
   "cell_type": "code",
   "execution_count": 7,
   "metadata": {},
   "outputs": [],
   "source": [
    "## Basis function (Step 1)\n"
   ]
  },
  {
   "cell_type": "code",
   "execution_count": null,
   "metadata": {},
   "outputs": [],
   "source": [
    "# Initialization\n",
    "eta <- 0.09 # Learning rate\n",
    "epsilon <- 0.001 # Stoping criterion\n",
    "tau.max <- 100 # Maximum number of iterations\n",
    "c0 <- '+1'; c1 <- '-1' # class labels\n",
    "\n",
    "T <- ifelse(train.label == c0, eval(parse(text=c0)),eval(parse(text=c1))) # Convention for class labels\n",
    "W <- matrix(,nrow=tau.max, ncol=ncol(Phi)) # Empty Weight vector\n",
    "W[1,] <- runif(ncol(Phi)) # Random initial values for weight vector\n",
    "\n",
    "error.trace <- matrix(0,nrow=tau.max, ncol=1) # Placeholder for errors\n",
    "# error.trace[1] <- sum((Phi%*%W[1,])*T<0)/train.len*100 # record error for initial weights\n",
    "\n",
    "for (i in 1:20){\n",
    "    j=i*5\n",
    "\n",
    "    Phi <- as.matrix(cbind(1, train.data[1:j,])) # add a column of 1 as phi_0\n",
    "    result <- perc (Phi, T, W, eta, epsilon, tau.max, error.trace)\n",
    "    result.fin <- rbind(result,result.fin)\n",
    "    }\n",
    "    \n",
    "\n"
   ]
  },
  {
   "cell_type": "markdown",
   "metadata": {},
   "source": [
    "#### Visualisation"
   ]
  },
  {
   "cell_type": "code",
   "execution_count": null,
   "metadata": {},
   "outputs": [],
   "source": [
    "# Visualizations\n",
    "## Ploting the decision boundary\n",
    "ggplot(data=as.data.frame(Phi), aes(x=x1, y=x2, label=ifelse(T!=c1, '+', '-'), color=factor(Phi%*%W[tau,]*T>0))) +\n",
    "    geom_text(alpha=0.75) +\n",
    "    scale_color_discrete(guide = guide_legend(title = 'Prediction'))+\n",
    "    geom_abline(intercept=w[1], slope=-w[2]/w[3]) +\n",
    "    ggtitle('Training Dataset and Decision Boundary') +\n",
    "    theme_minimal()"
   ]
  }
 ],
 "metadata": {
  "kernelspec": {
   "display_name": "R",
   "language": "R",
   "name": "ir"
  },
  "language_info": {
   "codemirror_mode": "r",
   "file_extension": ".r",
   "mimetype": "text/x-r-source",
   "name": "R",
   "pygments_lexer": "r",
   "version": "3.4.3"
  }
 },
 "nbformat": 4,
 "nbformat_minor": 2
}

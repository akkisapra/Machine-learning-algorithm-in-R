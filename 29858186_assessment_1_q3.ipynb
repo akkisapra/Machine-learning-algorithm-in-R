{
 "cells": [
  {
   "cell_type": "markdown",
   "metadata": {},
   "source": [
    "# Section B. Prediction Uncertainty with Bootstrapping\n"
   ]
  },
  {
   "cell_type": "markdown",
   "metadata": {},
   "source": [
    "## Bootstrapping (Question 3)"
   ]
  },
  {
   "cell_type": "markdown",
   "metadata": {},
   "source": [
    " - Student Name: Akshay Sapra \n",
    " - Stuident ID: 29858186\n",
    " \n",
    "Programming Language used: R in Jupyter Notebook\n",
    "\n",
    "Libraries Used: \n",
    "- ggplot2 - for data visualisation\n",
    "- reshape2 - for reshaping data\n",
    "\n"
   ]
  },
  {
   "cell_type": "markdown",
   "metadata": {},
   "source": [
    "### Steps for the solution\n",
    "<ol>\n",
    "\t<li>Load the Train and test dataset provided as part of the assignment specification</li>\n",
    "    <li>Reuse and modify the KNN method used in the previous question,</li>\n",
    "    <li>Define the Bootstraping function</li>\n",
    "       <li>Apply <code>bootstrap </code>function <code> with times = 100 </code> (the number of subset/sample) <code>and size = 25 </code> (the size of each sample/subset) on <code>knn </code>for $K\\in{1,\\dots,20}$ (the neighbourhood size),</li>\n",
    "\t<li>Report the uncertainty in the prediction in percentages.</li>\n",
    "\t<li>Repeat Step 2 with different values of K, times and size.</li>\n",
    "\t<li>Plot Average error versus $K$ where $K \\in \\{1,\\cdots,20\\}$ and identify the relation between test error and $K$</li>\n",
    "    \n",
    "    \n",
    "</ol>"
   ]
  },
  {
   "cell_type": "markdown",
   "metadata": {},
   "source": [
    "### Libraries used"
   ]
  },
  {
   "cell_type": "code",
   "execution_count": 4,
   "metadata": {},
   "outputs": [],
   "source": [
    "library (ggplot2) # For data visualization\n",
    "library(reshape2) # For reshaping data"
   ]
  },
  {
   "cell_type": "markdown",
   "metadata": {},
   "source": [
    "### Load And Explore Data"
   ]
  },
  {
   "cell_type": "code",
   "execution_count": 5,
   "metadata": {},
   "outputs": [],
   "source": [
    "# REading the data from csv \n",
    "Train= read.csv('Task1B_train.csv')\n",
    "Test= read.csv('Task1B_test.csv')"
   ]
  },
  {
   "cell_type": "code",
   "execution_count": 6,
   "metadata": {},
   "outputs": [
    {
     "data": {
      "text/html": [
       "<table>\n",
       "<thead><tr><th scope=col>x1</th><th scope=col>x2</th><th scope=col>x3</th><th scope=col>x4</th><th scope=col>y</th></tr></thead>\n",
       "<tbody>\n",
       "\t<tr><td>1991.496</td><td>1628.75 </td><td>1678.1  </td><td>1772.8  </td><td>2443.6  </td></tr>\n",
       "\t<tr><td>1991.504</td><td>1606.51 </td><td>1678.6  </td><td>1718.0  </td><td>2448.2  </td></tr>\n",
       "\t<tr><td>1991.512</td><td>1618.16 </td><td>1686.6  </td><td>1723.1  </td><td>2484.7  </td></tr>\n",
       "\t<tr><td>1991.519</td><td>1630.75 </td><td>1682.9  </td><td>1734.5  </td><td>2487.9  </td></tr>\n",
       "\t<tr><td>1991.527</td><td>1635.47 </td><td>1697.5  </td><td>1754.0  </td><td>2510.5  </td></tr>\n",
       "\t<tr><td>1991.535</td><td>1647.84 </td><td>1723.8  </td><td>1759.8  </td><td>2532.5  </td></tr>\n",
       "</tbody>\n",
       "</table>\n"
      ],
      "text/latex": [
       "\\begin{tabular}{r|lllll}\n",
       " x1 & x2 & x3 & x4 & y\\\\\n",
       "\\hline\n",
       "\t 1991.496 & 1628.75  & 1678.1   & 1772.8   & 2443.6  \\\\\n",
       "\t 1991.504 & 1606.51  & 1678.6   & 1718.0   & 2448.2  \\\\\n",
       "\t 1991.512 & 1618.16  & 1686.6   & 1723.1   & 2484.7  \\\\\n",
       "\t 1991.519 & 1630.75  & 1682.9   & 1734.5   & 2487.9  \\\\\n",
       "\t 1991.527 & 1635.47  & 1697.5   & 1754.0   & 2510.5  \\\\\n",
       "\t 1991.535 & 1647.84  & 1723.8   & 1759.8   & 2532.5  \\\\\n",
       "\\end{tabular}\n"
      ],
      "text/markdown": [
       "\n",
       "x1 | x2 | x3 | x4 | y | \n",
       "|---|---|---|---|---|---|\n",
       "| 1991.496 | 1628.75  | 1678.1   | 1772.8   | 2443.6   | \n",
       "| 1991.504 | 1606.51  | 1678.6   | 1718.0   | 2448.2   | \n",
       "| 1991.512 | 1618.16  | 1686.6   | 1723.1   | 2484.7   | \n",
       "| 1991.519 | 1630.75  | 1682.9   | 1734.5   | 2487.9   | \n",
       "| 1991.527 | 1635.47  | 1697.5   | 1754.0   | 2510.5   | \n",
       "| 1991.535 | 1647.84  | 1723.8   | 1759.8   | 2532.5   | \n",
       "\n",
       "\n"
      ],
      "text/plain": [
       "  x1       x2      x3     x4     y     \n",
       "1 1991.496 1628.75 1678.1 1772.8 2443.6\n",
       "2 1991.504 1606.51 1678.6 1718.0 2448.2\n",
       "3 1991.512 1618.16 1686.6 1723.1 2484.7\n",
       "4 1991.519 1630.75 1682.9 1734.5 2487.9\n",
       "5 1991.527 1635.47 1697.5 1754.0 2510.5\n",
       "6 1991.535 1647.84 1723.8 1759.8 2532.5"
      ]
     },
     "metadata": {},
     "output_type": "display_data"
    }
   ],
   "source": [
    "# Checking first few rows \n",
    "head(Train)"
   ]
  },
  {
   "cell_type": "code",
   "execution_count": 7,
   "metadata": {},
   "outputs": [
    {
     "data": {
      "text/html": [
       "<table>\n",
       "<thead><tr><th scope=col>x1</th><th scope=col>x2</th><th scope=col>x3</th><th scope=col>x4</th><th scope=col>y</th></tr></thead>\n",
       "<tbody>\n",
       "\t<tr><td>1991.500</td><td>1613.63 </td><td>1688.5  </td><td>1750.5  </td><td>2460.2  </td></tr>\n",
       "\t<tr><td>1991.508</td><td>1621.04 </td><td>1684.1  </td><td>1708.1  </td><td>2470.4  </td></tr>\n",
       "\t<tr><td>1991.515</td><td>1610.61 </td><td>1671.6  </td><td>1714.3  </td><td>2466.8  </td></tr>\n",
       "\t<tr><td>1991.523</td><td>1640.17 </td><td>1703.6  </td><td>1757.4  </td><td>2508.4  </td></tr>\n",
       "\t<tr><td>1991.531</td><td>1645.89 </td><td>1716.3  </td><td>1754.3  </td><td>2497.4  </td></tr>\n",
       "\t<tr><td>1991.538</td><td>1638.35 </td><td>1730.5  </td><td>1755.5  </td><td>2556.8  </td></tr>\n",
       "</tbody>\n",
       "</table>\n"
      ],
      "text/latex": [
       "\\begin{tabular}{r|lllll}\n",
       " x1 & x2 & x3 & x4 & y\\\\\n",
       "\\hline\n",
       "\t 1991.500 & 1613.63  & 1688.5   & 1750.5   & 2460.2  \\\\\n",
       "\t 1991.508 & 1621.04  & 1684.1   & 1708.1   & 2470.4  \\\\\n",
       "\t 1991.515 & 1610.61  & 1671.6   & 1714.3   & 2466.8  \\\\\n",
       "\t 1991.523 & 1640.17  & 1703.6   & 1757.4   & 2508.4  \\\\\n",
       "\t 1991.531 & 1645.89  & 1716.3   & 1754.3   & 2497.4  \\\\\n",
       "\t 1991.538 & 1638.35  & 1730.5   & 1755.5   & 2556.8  \\\\\n",
       "\\end{tabular}\n"
      ],
      "text/markdown": [
       "\n",
       "x1 | x2 | x3 | x4 | y | \n",
       "|---|---|---|---|---|---|\n",
       "| 1991.500 | 1613.63  | 1688.5   | 1750.5   | 2460.2   | \n",
       "| 1991.508 | 1621.04  | 1684.1   | 1708.1   | 2470.4   | \n",
       "| 1991.515 | 1610.61  | 1671.6   | 1714.3   | 2466.8   | \n",
       "| 1991.523 | 1640.17  | 1703.6   | 1757.4   | 2508.4   | \n",
       "| 1991.531 | 1645.89  | 1716.3   | 1754.3   | 2497.4   | \n",
       "| 1991.538 | 1638.35  | 1730.5   | 1755.5   | 2556.8   | \n",
       "\n",
       "\n"
      ],
      "text/plain": [
       "  x1       x2      x3     x4     y     \n",
       "1 1991.500 1613.63 1688.5 1750.5 2460.2\n",
       "2 1991.508 1621.04 1684.1 1708.1 2470.4\n",
       "3 1991.515 1610.61 1671.6 1714.3 2466.8\n",
       "4 1991.523 1640.17 1703.6 1757.4 2508.4\n",
       "5 1991.531 1645.89 1716.3 1754.3 2497.4\n",
       "6 1991.538 1638.35 1730.5 1755.5 2556.8"
      ]
     },
     "metadata": {},
     "output_type": "display_data"
    }
   ],
   "source": [
    "# Checking first few rows \n",
    "head (Test)"
   ]
  },
  {
   "cell_type": "code",
   "execution_count": 8,
   "metadata": {},
   "outputs": [
    {
     "data": {
      "text/html": [
       "<ol class=list-inline>\n",
       "\t<li>930</li>\n",
       "\t<li>5</li>\n",
       "</ol>\n"
      ],
      "text/latex": [
       "\\begin{enumerate*}\n",
       "\\item 930\n",
       "\\item 5\n",
       "\\end{enumerate*}\n"
      ],
      "text/markdown": [
       "1. 930\n",
       "2. 5\n",
       "\n",
       "\n"
      ],
      "text/plain": [
       "[1] 930   5"
      ]
     },
     "metadata": {},
     "output_type": "display_data"
    },
    {
     "data": {
      "text/html": [
       "<ol class=list-inline>\n",
       "\t<li>930</li>\n",
       "\t<li>5</li>\n",
       "</ol>\n"
      ],
      "text/latex": [
       "\\begin{enumerate*}\n",
       "\\item 930\n",
       "\\item 5\n",
       "\\end{enumerate*}\n"
      ],
      "text/markdown": [
       "1. 930\n",
       "2. 5\n",
       "\n",
       "\n"
      ],
      "text/plain": [
       "[1] 930   5"
      ]
     },
     "metadata": {},
     "output_type": "display_data"
    }
   ],
   "source": [
    "# Checking the dimensions of Train and Test data\n",
    "dim (Train)\n",
    "dim (Test)"
   ]
  },
  {
   "cell_type": "code",
   "execution_count": 29,
   "metadata": {},
   "outputs": [],
   "source": [
    "#divinding train and test data into separate data and label columns \n",
    "train.data=Train [,-5]\n",
    "test.data=Test [,-5]\n",
    "train.label=Train[1:nrow(Train),5]\n",
    "test.label= Test[1:nrow(Test),5]"
   ]
  },
  {
   "cell_type": "markdown",
   "metadata": {},
   "source": [
    "#### Task I\n",
    "Modify the code in Activity 2 to handle bootstrapping for KNN regression."
   ]
  },
  {
   "cell_type": "markdown",
   "metadata": {},
   "source": [
    "#### KNN Function"
   ]
  },
  {
   "cell_type": "code",
   "execution_count": 10,
   "metadata": {},
   "outputs": [],
   "source": [
    "# KNN function (distance should be one of euclidean, maximum, manhattan, canberra, binary or minkowski)\n",
    "knn <- function(train_data, train_label, test_data, K=4, distance = 'euclidean'){\n",
    "    ## count number of train samples\n",
    "    train.len <- nrow(train_data)\n",
    "    \n",
    "    ## count number of test samples\n",
    "    test.len <- nrow(test_data)\n",
    "    ## calculate distances between samples\n",
    "    dist <- as.matrix(dist(rbind(test_data, train_data), method= 'euclidean'))[1:test.len, (test.len+1):(test.len+train.len)]\n",
    "    \n",
    "    ## for each test sample...\n",
    "    pred <-list()\n",
    "    for (i in 1:test.len){\n",
    "        ### ...find its K nearest neighbours from training sampels...\n",
    "        nn <- as.data.frame(sort(dist[i,], index.return = TRUE))[1:K,2]\n",
    "        \n",
    "        ###... and calculate the predicted labels according to the majority vote\n",
    "        pred[i]<- (mean(train_label[nn]))\n",
    "    }\n",
    "    \n",
    "    ## return the class labels as output\n",
    "    return (as.numeric(pred))\n",
    "}"
   ]
  },
  {
   "cell_type": "markdown",
   "metadata": {},
   "source": [
    "#### Bootstrapping Function"
   ]
  },
  {
   "cell_type": "code",
   "execution_count": 11,
   "metadata": {},
   "outputs": [
    {
     "data": {
      "text/html": [
       "<table>\n",
       "<tbody>\n",
       "\t<tr><td>54 </td><td>83 </td><td>50 </td><td>11 </td><td>78 </td><td>54 </td><td> 20</td><td>74 </td><td>43 </td><td>58 </td></tr>\n",
       "\t<tr><td>57 </td><td>20 </td><td>96 </td><td>97 </td><td>96 </td><td>30 </td><td>100</td><td>35 </td><td>11 </td><td>81 </td></tr>\n",
       "\t<tr><td>72 </td><td>73 </td><td>36 </td><td>99 </td><td>26 </td><td>43 </td><td> 27</td><td>87 </td><td>76 </td><td>24 </td></tr>\n",
       "\t<tr><td>57 </td><td>16 </td><td>25 </td><td>31 </td><td>50 </td><td>91 </td><td> 32</td><td>88 </td><td> 8 </td><td> 3 </td></tr>\n",
       "\t<tr><td>92 </td><td>88 </td><td> 8 </td><td>75 </td><td>18 </td><td>32 </td><td>  9</td><td>89 </td><td>13 </td><td>16 </td></tr>\n",
       "</tbody>\n",
       "</table>\n"
      ],
      "text/latex": [
       "\\begin{tabular}{llllllllll}\n",
       "\t 54  & 83  & 50  & 11  & 78  & 54  &  20 & 74  & 43  & 58 \\\\\n",
       "\t 57  & 20  & 96  & 97  & 96  & 30  & 100 & 35  & 11  & 81 \\\\\n",
       "\t 72  & 73  & 36  & 99  & 26  & 43  &  27 & 87  & 76  & 24 \\\\\n",
       "\t 57  & 16  & 25  & 31  & 50  & 91  &  32 & 88  &  8  &  3 \\\\\n",
       "\t 92  & 88  &  8  & 75  & 18  & 32  &   9 & 89  & 13  & 16 \\\\\n",
       "\\end{tabular}\n"
      ],
      "text/markdown": [
       "\n",
       "| 54  | 83  | 50  | 11  | 78  | 54  |  20 | 74  | 43  | 58  | \n",
       "| 57  | 20  | 96  | 97  | 96  | 30  | 100 | 35  | 11  | 81  | \n",
       "| 72  | 73  | 36  | 99  | 26  | 43  |  27 | 87  | 76  | 24  | \n",
       "| 57  | 16  | 25  | 31  | 50  | 91  |  32 | 88  |  8  |  3  | \n",
       "| 92  | 88  |  8  | 75  | 18  | 32  |   9 | 89  | 13  | 16  | \n",
       "\n",
       "\n"
      ],
      "text/plain": [
       "     [,1] [,2] [,3] [,4] [,5] [,6] [,7] [,8] [,9] [,10]\n",
       "[1,] 54   83   50   11   78   54    20  74   43   58   \n",
       "[2,] 57   20   96   97   96   30   100  35   11   81   \n",
       "[3,] 72   73   36   99   26   43    27  87   76   24   \n",
       "[4,] 57   16   25   31   50   91    32  88    8    3   \n",
       "[5,] 92   88    8   75   18   32     9  89   13   16   "
      ]
     },
     "metadata": {},
     "output_type": "display_data"
    }
   ],
   "source": [
    "# define a function that generates sample indixes based on bootstrap technique\n",
    "boot <- function (original.size=100, sample.size=original.size, times=100){\n",
    "    indx <- matrix(nrow=times, ncol=sample.size)\n",
    "    for (t in 1:times){\n",
    "        indx[t, ] <- sample(x=original.size, size=sample.size, replace = TRUE)\n",
    "    }\n",
    "    return(indx)\n",
    "}\n",
    "# just to see if it works!\n",
    "boot(100, 10, 5)"
   ]
  },
  {
   "cell_type": "markdown",
   "metadata": {},
   "source": [
    "##### Task II"
   ]
  },
  {
   "cell_type": "markdown",
   "metadata": {},
   "source": [
    "Load **Task1B_train.csv** and **Task1B_test.csv** sets. Apply your\n",
    "bootstrapping for KNN regression with times = 100 (the number of\n",
    "subsets), size = 25 (the size of each subset), and change K=1,..,20 (the\n",
    "neighbourhood size). Now create a boxplot where the x-axis is K, and the yaxis is the average error (and the uncertainty around it) corresponding to\n",
    "each K. Save the plot in your Jupyter Notebook file for Question 3."
   ]
  },
  {
   "cell_type": "markdown",
   "metadata": {},
   "source": [
    "#### Applying Bootstrapping function"
   ]
  },
  {
   "cell_type": "code",
   "execution_count": 33,
   "metadata": {},
   "outputs": [],
   "source": [
    "# fix the parameters (20,100,25)\n",
    "K <- 20           # Maximum K for KNN \n",
    "L <- 100           # number of datasets\n",
    "N <- 25          # size of datasets\n",
    "\n",
    "# generate bootstrap indices:\n",
    "boot.indx <- boot(nrow(train.data), N, L)\n",
    "\n",
    "# a dataframe to track the error of samples in each case\n",
    "miss <- data.frame('K'=1:K, 'L'=1:L, 'test'=rep(0,L*K))"
   ]
  },
  {
   "cell_type": "code",
   "execution_count": 34,
   "metadata": {},
   "outputs": [],
   "source": [
    "# THIS MAY TAKE A FEW MINUTES TO COMPLETE\n",
    "## for every k values:\n",
    "for (k in 1: K){\n",
    "    \n",
    "    ### for every dataset sizes:\n",
    "    for (l in 1:L){\n",
    "        \n",
    "        #### calculate iteration index i\n",
    "        i <- (k-1)*L+l\n",
    "        \n",
    "        #### save sample indices that were selected by bootstrap\n",
    "        indx <- boot.indx[l,]\n",
    "        \n",
    "        #### save the value of k and l\n",
    "        miss[i,'K'] <- k\n",
    "        miss[i,'L'] <- l\n",
    "        \n",
    "        #### calculate and record the train and test missclassification rates\n",
    "        miss[i,'test'] <-  sqrt(mean((knn(train.data[indx,], train.label[indx], test.data, k) - test.label)^2))\n",
    "    } \n",
    "}"
   ]
  },
  {
   "cell_type": "markdown",
   "metadata": {},
   "source": [
    "#### Visualisation"
   ]
  },
  {
   "cell_type": "code",
   "execution_count": 36,
   "metadata": {},
   "outputs": [
    {
     "data": {},
     "metadata": {},
     "output_type": "display_data"
    },
    {
     "data": {
      "image/png": "[encoded data removed]",
      "text/plain": [
       "plot without title"
      ]
     },
     "metadata": {},
     "output_type": "display_data"
    }
   ],
   "source": [
    "ggplot(data=miss, aes(factor(K), test,fill=\"red\")) + geom_boxplot(outlier.shape = NA)  + \n",
    "    scale_color_discrete(guide = guide_legend(title = NULL)) +  ylab('Test error') + xlab('K (1-20)') +\n",
    "    ggtitle('Test Error vs. K (Box Plot)') + theme_minimal()\n",
    "# ignore the warnings (because of ignoring outliers)\n",
    "options(warn=-1)\n",
    "\n"
   ]
  },
  {
   "cell_type": "markdown",
   "metadata": {},
   "source": [
    "#### Task III"
   ]
  },
  {
   "cell_type": "markdown",
   "metadata": {},
   "source": [
    "Based on the plot in the previous part (Part II), how does the test error\n",
    "and its uncertainty behave as K increases? Explain in your Jupyter\n",
    "Notebook file."
   ]
  },
  {
   "cell_type": "markdown",
   "metadata": {},
   "source": [
    "**Observation**\n",
    "* It is evident from the above graph that test error and it's uncertainity increases with increase in K.\n",
    "* Although Error constantly increases with increase in K, Uncertainity is also increasing with K but it starts decreasing after the value of K is increased more than 12.\n",
    "* Least Error and uncertainity is observed for K=1, which is possibly due to overfitting."
   ]
  },
  {
   "cell_type": "markdown",
   "metadata": {},
   "source": [
    "#### Task IV"
   ]
  },
  {
   "cell_type": "markdown",
   "metadata": {},
   "source": [
    "Load **Task1B_train.csv** and **Task1B_test.csv** sets. Apply your\n",
    "bootstrapping for KNN regression with K=10 (the neighbourhood size),\n",
    "size = 25 (the size of each subset), and change times = 10, 20, 30,.., 200\n",
    "(the number of subsets). Now create a boxplot where the x-axis is ‘times’,\n",
    "and the y-axis is the average error (and the uncertainty around it)\n",
    "corresponding to each value of ‘times’. Save the plot in your Jupyter\n",
    "Notebook file for Question 3."
   ]
  },
  {
   "cell_type": "code",
   "execution_count": 45,
   "metadata": {},
   "outputs": [],
   "source": [
    "# fix the parameters (20,100,25)\n",
    "K1 <- 10           # Maximum K for KNN \n",
    "L1 <- seq(10,200,10)           # number of datasets from 10,20..100\n",
    "N1 <- 25          # size of datasets\n",
    "\n",
    "result <- data.frame()\n",
    "for (l in L1){\n",
    "    # generate bootstrap indices:\n",
    "    boot.indx <- boot(nrow(train.data), N1, l)\n",
    "    # a dataframe to track the number of missclassified samples in each case\n",
    "    miss1 <- data.frame ('L'=l, 'l'=1:l, 'test'=rep(NA,l))\n",
    "    for (i in 1:l){\n",
    "        #### save sample indices that were selected by bootstrap\n",
    "        indx <- boot.indx[i,]\n",
    "    \n",
    "        #### save the value of k and l\n",
    "        \n",
    "        #### calculate and record the train and test missclassification rates\n",
    "        miss1[i,'test'] <-  sqrt(mean((knn(train.data[indx,], train.label[indx], test.data, K1) - test.label)^2))\n",
    "    }\n",
    "\n",
    "    result <-rbind (result,miss1)\n",
    "}"
   ]
  },
  {
   "cell_type": "markdown",
   "metadata": {},
   "source": [
    "#### Visualisation"
   ]
  },
  {
   "cell_type": "code",
   "execution_count": 53,
   "metadata": {},
   "outputs": [
    {
     "data": {},
     "metadata": {},
     "output_type": "display_data"
    },
    {
     "data": {
      "image/png": "[encoded data removed]",
      "text/plain": [
       "plot without title"
      ]
     },
     "metadata": {},
     "output_type": "display_data"
    }
   ],
   "source": [
    "#Reshaping Data for visualisation\n",
    "result.new <- melt(result, id=c('L', 'l')) \n",
    "names(result.new) <- c('L', 'l', 'type', 'test')\n",
    "#Reference: https://github.com/hadley/reshape/issues/63\n",
    "\n",
    "ggplot(data=result.new, aes(x=factor(L), test,fill=\"red\")) + geom_boxplot(outlier.shape = NA)  + \n",
    "    scale_color_discrete(guide = guide_legend(title = NULL))  + ylab('Test error') + xlab('times') +\n",
    "    ggtitle('Test Error vs. times (Box Plot)') + theme_minimal()\n",
    "# ignore the warnings (because of ignoring outliers)\n",
    "options(warn=-1)\n",
    "\n"
   ]
  },
  {
   "cell_type": "markdown",
   "metadata": {},
   "source": [
    "#### Task V\n",
    "Based on the plot in the previous part (Part IV), how does the test error\n",
    "and its uncertainty behave as the number of subsets in bootstrapping\n",
    "increases? Explain in your Jupyter Notebook file."
   ]
  },
  {
   "cell_type": "markdown",
   "metadata": {},
   "source": [
    "**Observation**\n",
    "* It can be seen in the graph that there is no affect of number of subset on test error when K is kept constant.\n",
    "* It could be a possibility that it does not affect the error because samples are normally distributed."
   ]
  }
 ],
 "metadata": {
  "kernelspec": {
   "display_name": "R",
   "language": "R",
   "name": "ir"
  },
  "language_info": {
   "codemirror_mode": "r",
   "file_extension": ".r",
   "mimetype": "text/x-r-source",
   "name": "R",
   "pygments_lexer": "r",
   "version": "3.4.3"
  }
 },
 "nbformat": 4,
 "nbformat_minor": 2
}
